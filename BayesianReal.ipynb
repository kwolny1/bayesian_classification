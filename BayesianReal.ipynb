{
 "cells": [
  {
   "cell_type": "markdown",
   "metadata": {},
   "source": [
    "# BayesianReal"
   ]
  },
  {
   "cell_type": "markdown",
   "metadata": {},
   "source": [
    "Choose 3 datasets which are available on e.g., UCI repository https://archive.ics.\n",
    "uci.edu/ml/index.php or OpenML repository https://www.openml.org/ related to\n",
    "binary classification problem. Please only focus on datasets with numerical features.\n",
    "\n",
    "Compare LDA, QDA, and NB. Split data into training set and test set. Train the\n",
    "model on the train set and compute accuracy on the test set. Repeat the experiment\n",
    "for different train/test splits and generate boxplots showing the values of accuracy for\n",
    "each method. Save the results for three datasets in the file BayesianReal.pdf"
   ]
  },
  {
   "cell_type": "markdown",
   "metadata": {},
   "source": [
    "Datasets: \n",
    "\n",
    "* Skin Segmentation\n",
    "* Blood Transfusion Service Center\n",
    "* Sepsis Survival Minimal Clinical Records\n"
   ]
  },
  {
   "cell_type": "code",
   "execution_count": 1,
   "metadata": {},
   "outputs": [],
   "source": [
    "from ucimlrepo import fetch_ucirepo  \n",
    "import numpy as np \n",
    "import pandas as pd\n",
    "import matplotlib.pyplot as plt\n",
    "from sklearn.model_selection import train_test_split\n",
    "from sklearn.metrics import accuracy_score\n",
    "\n",
    "from LDA import LDA\n",
    "from QDA import QDA\n",
    "from NB import NB"
   ]
  },
  {
   "cell_type": "code",
   "execution_count": 2,
   "metadata": {},
   "outputs": [],
   "source": [
    "def get_results(X, y, nr_experiments):\n",
    "    results = {\"Experiment\": [], \"Model\": [], \"Accuracy\": []} \n",
    "    model_names = {\"LDA\": LDA(), \"QDA\": QDA(), \"NB\": NB()}\n",
    "\n",
    "    for experiment in range(nr_experiments):             \n",
    "            X_train, X_test, y_train, y_test = train_test_split(X, y, test_size=0.5)\n",
    "\n",
    "            for model_name in model_names.keys(): \n",
    "                model = model_names[model_name]\n",
    "                model.fit(X_train, y_train)\n",
    "                model_predictions = model.predict(X_test)\n",
    "                model_acc = accuracy_score(y_test, model_predictions)\n",
    "                results[\"Experiment\"].append(experiment)\n",
    "                results[\"Model\"].append(model_name)\n",
    "                results[\"Accuracy\"].append(model_acc)\n",
    "\n",
    "    return pd.DataFrame(results)"
   ]
  },
  {
   "cell_type": "code",
   "execution_count": 3,
   "metadata": {},
   "outputs": [],
   "source": [
    "def boxplot_results(results_df, title): \n",
    "    plt.figure(figsize=(8, 6))    \n",
    "    \n",
    "    results_df[[\"Accuracy\", \"Model\"]].boxplot(\"Accuracy\", \"Model\")\n",
    "\n",
    "    plt.title(title)\n",
    "    plt.suptitle(\"\")\n",
    "    plt.show()"
   ]
  },
  {
   "cell_type": "markdown",
   "metadata": {},
   "source": [
    "# Skin Segmentation \n",
    "https://archive.ics.uci.edu/dataset/229/skin+segmentation"
   ]
  },
  {
   "cell_type": "code",
   "execution_count": 4,
   "metadata": {},
   "outputs": [
    {
     "name": "stdout",
     "output_type": "stream",
     "text": [
      "{'uci_id': 229, 'name': 'Skin Segmentation', 'repository_url': 'https://archive.ics.uci.edu/dataset/229/skin+segmentation', 'data_url': 'https://archive.ics.uci.edu/static/public/229/data.csv', 'abstract': 'The Skin Segmentation dataset is constructed over B, G, R color space. Skin and Nonskin dataset is generated using skin textures from face images of diversity of age, gender, and race people.', 'area': 'Computer Science', 'tasks': ['Classification'], 'characteristics': ['Univariate'], 'num_instances': 245057, 'num_features': 3, 'feature_types': ['Real'], 'demographics': [], 'target_col': ['y'], 'index_col': None, 'has_missing_values': 'no', 'missing_values_symbol': None, 'year_of_dataset_creation': 2009, 'last_updated': 'Tue Apr 09 2024', 'dataset_doi': '10.24432/C5T30C', 'creators': ['Rajen Bhatt', 'Abhinav Dhall'], 'intro_paper': None, 'additional_info': {'summary': 'The skin dataset is collected by randomly sampling B,G,R values from face images of various age groups (young, middle, and old), race groups (white, black, and asian), and genders obtained from FERET database and PAL database. Total learning sample size is 245057; out of which 50859 is the skin samples and 194198 is non-skin samples. Color FERET Image Database: http://face.nist.gov/colorferet/request.html, PAL Face Database from Productive Aging Laboratory, The University of Texas at Dallas: https://pal.utdallas.edu/facedb/. \\r\\n\\r\\n ', 'purpose': None, 'funded_by': None, 'instances_represent': None, 'recommended_data_splits': None, 'sensitive_data': None, 'preprocessing_description': None, 'variable_info': 'This dataset is of the dimension 245057 * 4 where first three columns are B,G,R (x1,x2, and x3 features) values and fourth column is of the class labels (decision variable y). ', 'citation': None}}\n",
      "  name     role     type demographic description units missing_values\n",
      "0    B  Feature  Integer        None        None  None             no\n",
      "1    G  Feature  Integer        None        None  None             no\n",
      "2    R  Feature  Integer        None        None  None             no\n",
      "3    y   Target   Binary        None        None  None             no\n",
      "Shape: (2000, 3)\n",
      "Labels: [0 1]\n"
     ]
    }
   ],
   "source": [
    "sample_size = 2000\n",
    "# fetch dataset \n",
    "skin_segmentation = fetch_ucirepo(id=229) \n",
    "  \n",
    "# data (as pandas dataframes) \n",
    "X_ss = skin_segmentation.data.features \n",
    "y_ss = skin_segmentation.data.targets \n",
    "\n",
    "indices = np.random.choice(len(X_ss), sample_size, replace=False)  # Random indices\n",
    "X_ss = X_ss.iloc[indices]\n",
    "y_ss = y_ss.iloc[indices].to_numpy()\n",
    "y_ss = y_ss - 1\n",
    "\n",
    "# metadata \n",
    "print(skin_segmentation.metadata) \n",
    "  \n",
    "# variable information \n",
    "print(skin_segmentation.variables) \n",
    "\n",
    "print(f\"Shape: {X_ss.shape}\")\n",
    "print(f\"Labels: {np.unique(y_ss)}\")\n"
   ]
  },
  {
   "cell_type": "code",
   "execution_count": 5,
   "metadata": {},
   "outputs": [
    {
     "data": {
      "text/html": [
       "<div>\n",
       "<style scoped>\n",
       "    .dataframe tbody tr th:only-of-type {\n",
       "        vertical-align: middle;\n",
       "    }\n",
       "\n",
       "    .dataframe tbody tr th {\n",
       "        vertical-align: top;\n",
       "    }\n",
       "\n",
       "    .dataframe thead th {\n",
       "        text-align: right;\n",
       "    }\n",
       "</style>\n",
       "<table border=\"1\" class=\"dataframe\">\n",
       "  <thead>\n",
       "    <tr style=\"text-align: right;\">\n",
       "      <th></th>\n",
       "      <th>Experiment</th>\n",
       "      <th>Model</th>\n",
       "      <th>Accuracy</th>\n",
       "    </tr>\n",
       "  </thead>\n",
       "  <tbody>\n",
       "    <tr>\n",
       "      <th>0</th>\n",
       "      <td>0</td>\n",
       "      <td>LDA</td>\n",
       "      <td>0.936</td>\n",
       "    </tr>\n",
       "    <tr>\n",
       "      <th>1</th>\n",
       "      <td>0</td>\n",
       "      <td>QDA</td>\n",
       "      <td>0.998</td>\n",
       "    </tr>\n",
       "    <tr>\n",
       "      <th>2</th>\n",
       "      <td>0</td>\n",
       "      <td>NB</td>\n",
       "      <td>0.935</td>\n",
       "    </tr>\n",
       "    <tr>\n",
       "      <th>3</th>\n",
       "      <td>1</td>\n",
       "      <td>LDA</td>\n",
       "      <td>0.920</td>\n",
       "    </tr>\n",
       "    <tr>\n",
       "      <th>4</th>\n",
       "      <td>1</td>\n",
       "      <td>QDA</td>\n",
       "      <td>0.998</td>\n",
       "    </tr>\n",
       "  </tbody>\n",
       "</table>\n",
       "</div>"
      ],
      "text/plain": [
       "   Experiment Model  Accuracy\n",
       "0           0   LDA     0.936\n",
       "1           0   QDA     0.998\n",
       "2           0    NB     0.935\n",
       "3           1   LDA     0.920\n",
       "4           1   QDA     0.998"
      ]
     },
     "execution_count": 5,
     "metadata": {},
     "output_type": "execute_result"
    }
   ],
   "source": [
    "res_ss = get_results(X_ss, y_ss, 10)\n",
    "res_ss.head()"
   ]
  },
  {
   "cell_type": "code",
   "execution_count": 6,
   "metadata": {},
   "outputs": [
    {
     "data": {
      "text/plain": [
       "<Figure size 800x600 with 0 Axes>"
      ]
     },
     "metadata": {},
     "output_type": "display_data"
    },
    {
     "data": {
      "image/png": "[encoded data removed]",
      "text/plain": [
       "<Figure size 640x480 with 1 Axes>"
      ]
     },
     "metadata": {},
     "output_type": "display_data"
    }
   ],
   "source": [
    "boxplot_results(res_ss, \"Skin Segmentation\")"
   ]
  },
  {
   "cell_type": "markdown",
   "metadata": {},
   "source": [
    "# Blood Transfusion Service Center\n",
    "https://archive.ics.uci.edu/dataset/176/blood+transfusion+service+center"
   ]
  },
  {
   "cell_type": "code",
   "execution_count": 7,
   "metadata": {},
   "outputs": [
    {
     "name": "stdout",
     "output_type": "stream",
     "text": [
      "{'uci_id': 176, 'name': 'Blood Transfusion Service Center', 'repository_url': 'https://archive.ics.uci.edu/dataset/176/blood+transfusion+service+center', 'data_url': 'https://archive.ics.uci.edu/static/public/176/data.csv', 'abstract': 'Data taken from the Blood Transfusion Service Center in Hsin-Chu City in Taiwan -- this is a classification problem. ', 'area': 'Business', 'tasks': ['Classification'], 'characteristics': ['Multivariate'], 'num_instances': 748, 'num_features': 4, 'feature_types': ['Real'], 'demographics': [], 'target_col': ['Donated_Blood'], 'index_col': None, 'has_missing_values': 'no', 'missing_values_symbol': None, 'year_of_dataset_creation': 2008, 'last_updated': 'Sat Mar 16 2024', 'dataset_doi': '10.24432/C5GS39', 'creators': ['I-Cheng Yeh'], 'intro_paper': {'ID': 434, 'type': 'NATIVE', 'title': 'Knowledge discovery on RFM model using Bernoulli sequence', 'authors': 'I. Yeh, K. Yang, Tao-Ming Ting', 'venue': 'Expert systems with applications', 'year': 2009, 'journal': None, 'DOI': '10.1016/j.eswa.2008.07.018', 'URL': 'https://www.semanticscholar.org/paper/c8dc14c5758d3d2fdd28bdb9c833f88b939d8dff', 'sha': None, 'corpus': None, 'arxiv': None, 'mag': None, 'acl': None, 'pmid': None, 'pmcid': None}, 'additional_info': {'summary': 'To demonstrate the RFMTC marketing model (a modified version of RFM), this study adopted the donor database of Blood Transfusion Service Center in Hsin-Chu City in Taiwan. The center passes their blood transfusion service bus to one university in Hsin-Chu City to gather blood donated about every three months. To build a FRMTC model, we selected 748 donors at random from the donor database. These 748 donor data, each one included R (Recency - months since last donation), F (Frequency - total number of donation), M (Monetary - total blood donated in c.c.), T (Time - months since first donation), and a binary variable representing whether he/she donated blood in March 2007 (1 stand for donating blood; 0 stands for not donating blood). ', 'purpose': None, 'funded_by': None, 'instances_represent': None, 'recommended_data_splits': None, 'sensitive_data': None, 'preprocessing_description': None, 'variable_info': 'Given is the variable name, variable type, the measurement unit and a brief description. The \"Blood Transfusion Service Center\" is a classification problem. The order of this listing corresponds to the order of numerals along the rows of the database. \\r\\n\\r\\nR (Recency - months since last donation), \\r\\nF (Frequency - total number of donation), \\r\\nM (Monetary - total blood donated in c.c.), \\r\\nT (Time - months since first donation), and \\r\\na binary variable representing whether he/she donated blood in March 2007 (1 stand for donating blood; 0 stands for not donating blood). \\r\\n\\r\\n\\r\\nTable 1 shows the descriptive statistics of the data. We selected 500 data at random as the training set, and the rest 248 as the testing set.\\r\\n\\r\\nTable 1. Descriptive statistics of the data\\r\\n\\r\\nVariable\\tData Type\\tMeasurement\\tDescription\\tmin\\tmax\\tmean\\tstd\\r\\nRecency \\tquantitative\\tMonths\\tInput\\t0.03\\t74.4\\t9.74\\t8.07\\r\\nFrequency \\tquantitative\\tTimes\\tInput\\t1\\t50\\t5.51\\t5.84\\r\\nMonetary\\tquantitative\\tc.c. blood\\tInput\\t250\\t12500\\t1378.68\\t1459.83\\r\\nTime \\tquantitative\\tMonths\\tInput\\t2.27\\t98.3\\t34.42\\t24.32\\r\\nWhether he/she donated blood in March 2007\\tbinary\\t1=yes 0=no\\tOutput\\t0\\t1\\t1 (24%) 0 (76%)\\r\\n', 'citation': None}}\n",
      "            name     role     type demographic  \\\n",
      "0        Recency  Feature  Integer        None   \n",
      "1      Frequency  Feature  Integer        None   \n",
      "2       Monetary  Feature  Integer        None   \n",
      "3           Time  Feature  Integer        None   \n",
      "4  Donated_Blood   Target   Binary        None   \n",
      "\n",
      "                                         description units missing_values  \n",
      "0                         months since last donation  None             no  \n",
      "1                          total number of donations  None             no  \n",
      "2                        total blood donated in c.c.  None             no  \n",
      "3                        months since first donation  None             no  \n",
      "4  whether he/she donated blood in March 2007 (1 ...  None             no  \n",
      "Shape: (748, 4)\n",
      "Labels: [0 1]\n"
     ]
    }
   ],
   "source": [
    "from ucimlrepo import fetch_ucirepo \n",
    "  \n",
    "# fetch dataset \n",
    "blood_transfusion_service_center = fetch_ucirepo(id=176) \n",
    "  \n",
    "# data (as pandas dataframes) \n",
    "X_btsc = blood_transfusion_service_center.data.features \n",
    "y_btsc = blood_transfusion_service_center.data.targets \n",
    "y_btsc = y_btsc.to_numpy().flatten()\n",
    "  \n",
    "# metadata \n",
    "print(blood_transfusion_service_center.metadata) \n",
    "  \n",
    "# variable information \n",
    "print(blood_transfusion_service_center.variables) \n",
    "\n",
    "print(f\"Shape: {X_btsc.shape}\")\n",
    "print(f\"Labels: {np.unique(y_btsc)}\")\n"
   ]
  },
  {
   "cell_type": "code",
   "execution_count": 8,
   "metadata": {},
   "outputs": [
    {
     "data": {
      "text/html": [
       "<div>\n",
       "<style scoped>\n",
       "    .dataframe tbody tr th:only-of-type {\n",
       "        vertical-align: middle;\n",
       "    }\n",
       "\n",
       "    .dataframe tbody tr th {\n",
       "        vertical-align: top;\n",
       "    }\n",
       "\n",
       "    .dataframe thead th {\n",
       "        text-align: right;\n",
       "    }\n",
       "</style>\n",
       "<table border=\"1\" class=\"dataframe\">\n",
       "  <thead>\n",
       "    <tr style=\"text-align: right;\">\n",
       "      <th></th>\n",
       "      <th>Recency</th>\n",
       "      <th>Frequency</th>\n",
       "      <th>Monetary</th>\n",
       "      <th>Time</th>\n",
       "    </tr>\n",
       "  </thead>\n",
       "  <tbody>\n",
       "    <tr>\n",
       "      <th>0</th>\n",
       "      <td>2</td>\n",
       "      <td>50</td>\n",
       "      <td>12500</td>\n",
       "      <td>98</td>\n",
       "    </tr>\n",
       "    <tr>\n",
       "      <th>1</th>\n",
       "      <td>0</td>\n",
       "      <td>13</td>\n",
       "      <td>3250</td>\n",
       "      <td>28</td>\n",
       "    </tr>\n",
       "    <tr>\n",
       "      <th>2</th>\n",
       "      <td>1</td>\n",
       "      <td>16</td>\n",
       "      <td>4000</td>\n",
       "      <td>35</td>\n",
       "    </tr>\n",
       "    <tr>\n",
       "      <th>3</th>\n",
       "      <td>2</td>\n",
       "      <td>20</td>\n",
       "      <td>5000</td>\n",
       "      <td>45</td>\n",
       "    </tr>\n",
       "    <tr>\n",
       "      <th>4</th>\n",
       "      <td>1</td>\n",
       "      <td>24</td>\n",
       "      <td>6000</td>\n",
       "      <td>77</td>\n",
       "    </tr>\n",
       "  </tbody>\n",
       "</table>\n",
       "</div>"
      ],
      "text/plain": [
       "   Recency  Frequency  Monetary  Time\n",
       "0        2         50     12500    98\n",
       "1        0         13      3250    28\n",
       "2        1         16      4000    35\n",
       "3        2         20      5000    45\n",
       "4        1         24      6000    77"
      ]
     },
     "execution_count": 8,
     "metadata": {},
     "output_type": "execute_result"
    }
   ],
   "source": [
    "X_btsc.head()"
   ]
  },
  {
   "cell_type": "code",
   "execution_count": 9,
   "metadata": {},
   "outputs": [
    {
     "name": "stderr",
     "output_type": "stream",
     "text": [
      "c:\\Users\\admin\\AppData\\Local\\Programs\\Python\\Python311\\Lib\\site-packages\\pandas\\core\\arraylike.py:396: RuntimeWarning: overflow encountered in exp\n",
      "  result = getattr(ufunc, method)(*inputs, **kwargs)\n"
     ]
    },
    {
     "data": {
      "text/html": [
       "<div>\n",
       "<style scoped>\n",
       "    .dataframe tbody tr th:only-of-type {\n",
       "        vertical-align: middle;\n",
       "    }\n",
       "\n",
       "    .dataframe tbody tr th {\n",
       "        vertical-align: top;\n",
       "    }\n",
       "\n",
       "    .dataframe thead th {\n",
       "        text-align: right;\n",
       "    }\n",
       "</style>\n",
       "<table border=\"1\" class=\"dataframe\">\n",
       "  <thead>\n",
       "    <tr style=\"text-align: right;\">\n",
       "      <th></th>\n",
       "      <th>Experiment</th>\n",
       "      <th>Model</th>\n",
       "      <th>Accuracy</th>\n",
       "    </tr>\n",
       "  </thead>\n",
       "  <tbody>\n",
       "    <tr>\n",
       "      <th>0</th>\n",
       "      <td>0</td>\n",
       "      <td>LDA</td>\n",
       "      <td>0.398396</td>\n",
       "    </tr>\n",
       "    <tr>\n",
       "      <th>1</th>\n",
       "      <td>0</td>\n",
       "      <td>QDA</td>\n",
       "      <td>0.639037</td>\n",
       "    </tr>\n",
       "    <tr>\n",
       "      <th>2</th>\n",
       "      <td>0</td>\n",
       "      <td>NB</td>\n",
       "      <td>0.762032</td>\n",
       "    </tr>\n",
       "    <tr>\n",
       "      <th>3</th>\n",
       "      <td>1</td>\n",
       "      <td>LDA</td>\n",
       "      <td>0.336898</td>\n",
       "    </tr>\n",
       "    <tr>\n",
       "      <th>4</th>\n",
       "      <td>1</td>\n",
       "      <td>QDA</td>\n",
       "      <td>0.652406</td>\n",
       "    </tr>\n",
       "  </tbody>\n",
       "</table>\n",
       "</div>"
      ],
      "text/plain": [
       "   Experiment Model  Accuracy\n",
       "0           0   LDA  0.398396\n",
       "1           0   QDA  0.639037\n",
       "2           0    NB  0.762032\n",
       "3           1   LDA  0.336898\n",
       "4           1   QDA  0.652406"
      ]
     },
     "execution_count": 9,
     "metadata": {},
     "output_type": "execute_result"
    }
   ],
   "source": [
    "res_btsc = get_results(X_btsc, y_btsc, 10)\n",
    "res_btsc.head()"
   ]
  },
  {
   "cell_type": "code",
   "execution_count": 10,
   "metadata": {},
   "outputs": [
    {
     "data": {
      "text/plain": [
       "<Figure size 800x600 with 0 Axes>"
      ]
     },
     "metadata": {},
     "output_type": "display_data"
    },
    {
     "data": {
      "image/png": "[encoded data removed]",
      "text/plain": [
       "<Figure size 640x480 with 1 Axes>"
      ]
     },
     "metadata": {},
     "output_type": "display_data"
    }
   ],
   "source": [
    "boxplot_results(res_btsc, \"Blood Transfusion Service Center\")"
   ]
  },
  {
   "cell_type": "markdown",
   "metadata": {},
   "source": [
    "# Sepsis Survival Minimal Clinical Records\n",
    "\n",
    "https://archive.ics.uci.edu/dataset/827/sepsis+survival+minimal+clinical+records"
   ]
  },
  {
   "cell_type": "code",
   "execution_count": 11,
   "metadata": {},
   "outputs": [
    {
     "name": "stdout",
     "output_type": "stream",
     "text": [
      "{'uci_id': 827, 'name': 'Sepsis Survival Minimal Clinical Records', 'repository_url': 'https://archive.ics.uci.edu/dataset/827/sepsis+survival+minimal+clinical+records', 'data_url': 'https://archive.ics.uci.edu/static/public/827/data.csv', 'abstract': 'The dataset consists of 110,204 admissions of 84,811 hospitalized subjects between 2011 and 2012 in Norway who were diagnosed with infections, systemic inflammatory response syndrome, sepsis by causative microbes, or septic shock.  The prediction task is to determine whether a patient survived or is deceased at a time of about 9 days after collecting their medical record at the hospital.\\n\\nThis is an important prediction problem in clinical medicine. Sepsis is a life-threatening condition triggered by an immune overreaction to infection, leading to organ failure or even death. Sepsis is associated with immediate death risk, often killing patients within one hour. This renders many laboratory tests and hospital analyses impractical for timely diagnosis and treatment. Being able to predict the survival of patients within minutes with as few and easy-to-retrieve medical features as possible is very important.', 'area': 'Health and Medicine', 'tasks': ['Classification'], 'characteristics': ['Multivariate'], 'num_instances': 110341, 'num_features': 3, 'feature_types': ['Integer'], 'demographics': ['Age', 'Gender'], 'target_col': ['hospital_outcome_1alive_0dead'], 'index_col': None, 'has_missing_values': 'no', 'missing_values_symbol': None, 'year_of_dataset_creation': 2020, 'last_updated': 'Fri Nov 03 2023', 'dataset_doi': '10.24432/C53C8N', 'creators': ['Davide Chicco', 'Giuseppe Jurman'], 'intro_paper': {'ID': 223, 'type': 'NATIVE', 'title': 'Survival prediction of patients with sepsis from age, sex, and septic episode number alone', 'authors': 'D. Chicco, Giuseppe Jurman', 'venue': 'Scientific Reports 10', 'year': 2020, 'journal': None, 'DOI': '10.1038/s41598-020-73558-3', 'URL': 'https://www.nature.com/articles/s41598-020-73558-3', 'sha': None, 'corpus': None, 'arxiv': None, 'mag': None, 'acl': None, 'pmid': None, 'pmcid': None}, 'additional_info': {'summary': \"Primary cohort from Norway:\\n- 4 features for 110,204 patient admissions\\n- file: 's41598-020-73558-3_sepsis_survival_primary_cohort.csv'\\n\\nStudy cohort (a subset of the primary cohort) from Norway:\\n- 4 features for 19,051 patient admissions\\n- file: 's41598-020-73558-3_sepsis_survival_study_cohort.csv'\\n\\nValidation cohort from South Korea:\\n- 4 features for 137 patients\\n- file: 's41598-020-73558-3_sepsis_survival_validation_cohort.csv'\\n\\nThe validation cohort from South Korea was used by Chicco and Jurman (2020) as an external validation cohort to confirm the generalizability of their proposed approach. \", 'purpose': None, 'funded_by': None, 'instances_represent': 'For the primary cohort, they represent records of patients affected by sepsis potential preconditions (ante Sepsis-3 definition); for the study cohort, they represent only the patients’ admissions defined by the novel Sepsis-3 definition.', 'recommended_data_splits': 'No recommendation, standard train-test split could be used. Can use three-way holdout split (i.e., training, validation/development, testing) when doing model selection.', 'sensitive_data': 'Yes. It contains information about the gender and age of the patient.', 'preprocessing_description': 'All the categorical variables have been encoded (so no preprocessing is necessary).', 'variable_info': None, 'citation': 'Davide Chicco, Giuseppe Jurman, Survival prediction of patients with sepsis from age, sex, and septic episode number alone. Scientific Reports 10, 17156 (2020) https://doi.org/10.1038/s41598-020-73558-3\\n'}}\n",
      "                            name     role     type demographic  \\\n",
      "0                      age_years  Feature  Integer         Age   \n",
      "1              sex_0male_1female  Feature   Binary      Gender   \n",
      "2                 episode_number  Feature  Integer        None   \n",
      "3  hospital_outcome_1alive_0dead   Target   Binary        None   \n",
      "\n",
      "                                         description  units missing_values  \n",
      "0                       Age of the patient in years.  years             no  \n",
      "1  Gender of the patient. Values are encoded as f...   None             no  \n",
      "2                    Number of prior Sepsis episodes   None             no  \n",
      "3  Status of the patient after 9,351 days of bein...   None             no  \n",
      "Shape: (20000, 3)\n",
      "Labels: [0 1]\n"
     ]
    }
   ],
   "source": [
    "sample_size = 20000\n",
    "from ucimlrepo import fetch_ucirepo \n",
    "  \n",
    "# fetch dataset \n",
    "sepsis_survival_minimal_clinical_records = fetch_ucirepo(id=827) \n",
    "  \n",
    "# data (as pandas dataframes) \n",
    "X_ssmcr = sepsis_survival_minimal_clinical_records.data.features \n",
    "y_ssmcr = sepsis_survival_minimal_clinical_records.data.targets \n",
    "\n",
    "indices = np.random.choice(len(X_ssmcr), sample_size, replace=False)  # Random indices\n",
    "X_ssmcr = X_ssmcr.iloc[indices]\n",
    "y_ssmcr = y_ssmcr.iloc[indices].to_numpy().flatten()\n",
    "\n",
    "# metadata \n",
    "print(sepsis_survival_minimal_clinical_records.metadata) \n",
    "  \n",
    "# variable information \n",
    "print(sepsis_survival_minimal_clinical_records.variables) \n",
    "\n",
    "print(f\"Shape: {X_ssmcr.shape}\")\n",
    "print(f\"Labels: {np.unique(y_ssmcr)}\")\n"
   ]
  },
  {
   "cell_type": "code",
   "execution_count": 12,
   "metadata": {},
   "outputs": [
    {
     "data": {
      "text/html": [
       "<div>\n",
       "<style scoped>\n",
       "    .dataframe tbody tr th:only-of-type {\n",
       "        vertical-align: middle;\n",
       "    }\n",
       "\n",
       "    .dataframe tbody tr th {\n",
       "        vertical-align: top;\n",
       "    }\n",
       "\n",
       "    .dataframe thead th {\n",
       "        text-align: right;\n",
       "    }\n",
       "</style>\n",
       "<table border=\"1\" class=\"dataframe\">\n",
       "  <thead>\n",
       "    <tr style=\"text-align: right;\">\n",
       "      <th></th>\n",
       "      <th>Experiment</th>\n",
       "      <th>Model</th>\n",
       "      <th>Accuracy</th>\n",
       "    </tr>\n",
       "  </thead>\n",
       "  <tbody>\n",
       "    <tr>\n",
       "      <th>0</th>\n",
       "      <td>0</td>\n",
       "      <td>LDA</td>\n",
       "      <td>0.1271</td>\n",
       "    </tr>\n",
       "    <tr>\n",
       "      <th>1</th>\n",
       "      <td>0</td>\n",
       "      <td>QDA</td>\n",
       "      <td>0.4755</td>\n",
       "    </tr>\n",
       "    <tr>\n",
       "      <th>2</th>\n",
       "      <td>0</td>\n",
       "      <td>NB</td>\n",
       "      <td>0.9270</td>\n",
       "    </tr>\n",
       "    <tr>\n",
       "      <th>3</th>\n",
       "      <td>1</td>\n",
       "      <td>LDA</td>\n",
       "      <td>0.1293</td>\n",
       "    </tr>\n",
       "    <tr>\n",
       "      <th>4</th>\n",
       "      <td>1</td>\n",
       "      <td>QDA</td>\n",
       "      <td>0.4736</td>\n",
       "    </tr>\n",
       "  </tbody>\n",
       "</table>\n",
       "</div>"
      ],
      "text/plain": [
       "   Experiment Model  Accuracy\n",
       "0           0   LDA    0.1271\n",
       "1           0   QDA    0.4755\n",
       "2           0    NB    0.9270\n",
       "3           1   LDA    0.1293\n",
       "4           1   QDA    0.4736"
      ]
     },
     "execution_count": 12,
     "metadata": {},
     "output_type": "execute_result"
    }
   ],
   "source": [
    "res_ssmcr = get_results(X_ssmcr, y_ssmcr, 10)\n",
    "res_ssmcr.head()"
   ]
  },
  {
   "cell_type": "code",
   "execution_count": 13,
   "metadata": {},
   "outputs": [
    {
     "data": {
      "text/plain": [
       "<Figure size 800x600 with 0 Axes>"
      ]
     },
     "metadata": {},
     "output_type": "display_data"
    },
    {
     "data": {
      "image/png": "[encoded data removed]",
      "text/plain": [
       "<Figure size 640x480 with 1 Axes>"
      ]
     },
     "metadata": {},
     "output_type": "display_data"
    }
   ],
   "source": [
    "boxplot_results(res_ssmcr, \"Sepsis Survival Minimal Clinical Records\")"
   ]
  }
 ],
 "metadata": {
  "kernelspec": {
   "display_name": "Python 3",
   "language": "python",
   "name": "python3"
  },
  "language_info": {
   "codemirror_mode": {
    "name": "ipython",
    "version": 3
   },
   "file_extension": ".py",
   "mimetype": "text/x-python",
   "name": "python",
   "nbconvert_exporter": "python",
   "pygments_lexer": "ipython3",
   "version": "3.11.6"
  }
 },
 "nbformat": 4,
 "nbformat_minor": 2
}
