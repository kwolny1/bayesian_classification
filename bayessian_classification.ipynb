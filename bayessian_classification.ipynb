{
 "cells": [
  {
   "cell_type": "markdown",
   "metadata": {},
   "source": [
    "# Bayessian classification\n"
   ]
  },
  {
   "cell_type": "code",
   "execution_count": 6,
   "metadata": {},
   "outputs": [],
   "source": [
    "import numpy as np\n",
    "import pandas as pd\n",
    "# import LDA\n",
    "\n",
    "np.random.seed(123)"
   ]
  },
  {
   "cell_type": "markdown",
   "metadata": {},
   "source": [
    "## Create Sythetic Database"
   ]
  },
  {
   "cell_type": "code",
   "execution_count": 7,
   "metadata": {},
   "outputs": [],
   "source": [
    "a = 1\n",
    "rho = 0.2\n",
    "\n",
    "n = 1000\n",
    "p = 2\n",
    "prob = 0.5\n",
    "\n",
    "mean_0 = 0\n",
    "mean_1 = a\n",
    "std_dev = 1\n",
    "cov = [[1, rho], [rho, 1]]"
   ]
  },
  {
   "cell_type": "markdown",
   "metadata": {},
   "source": [
    "### Scheme 1"
   ]
  },
  {
   "cell_type": "code",
   "execution_count": null,
   "metadata": {},
   "outputs": [],
   "source": [
    "n_ones = np.sum(np.random.binomial(1, p, size=n))\n",
    "\n",
    "X1_0 = np.random.normal(mean_0, std_dev, n-n_ones)\n",
    "X2_0 = np.random.normal(mean_0, std_dev, n-n_ones)\n",
    "X3_0 = np.zeros(n)\n",
    "\n",
    "X1_1 = np.random.normal(mean_1, std_dev, n_ones)\n",
    "X2_1 = np.random.normal(mean_1, std_dev, n_ones)\n",
    "X3_1 = np.ones(n)\n",
    "\n",
    "df_0 = pd.DataFrame({'X_1': X1_0, 'X_2': X2_0, 'Y': X3_0})\n",
    "df_1 = pd.DataFrame({'X_1': X1_1, 'X_2': X2_1, 'Y': X3_1})\n",
    "scheme1_df = pd.concat([df_0, df_1])\n",
    "scheme1_df.head()"
   ]
  },
  {
   "cell_type": "markdown",
   "metadata": {},
   "source": [
    "### Scheme 2"
   ]
  },
  {
   "cell_type": "code",
   "execution_count": null,
   "metadata": {},
   "outputs": [],
   "source": [
    "n_ones = np.sum(np.random.binomial(1, p, size=n))\n",
    "\n",
    "X1_0 = np.random.multivariate_normal(mean_0, cov, n-n_ones)\n",
    "X2_0 = np.random.multivariate_normal(mean_0, cov, n-n_ones)\n",
    "X3_0 = np.zeros(n)\n",
    "\n",
    "X1_1 = np.random.multivariate_normal(mean_1, cov, n_ones)\n",
    "X2_1 = np.random.multivariate_normal(mean_1, cov, n_ones)\n",
    "X3_1 = np.ones(n)\n",
    "\n",
    "df_0 = pd.DataFrame({'X_1': X1_0, 'X_2': X2_0, 'Y': X3_0})\n",
    "df_1 = pd.DataFrame({'X_1': X1_1, 'X_2': X2_1, 'Y': X3_1})\n",
    "scheme2_df = pd.concat([df_0, df_1])\n",
    "scheme2_df.head()"
   ]
  }
 ],
 "metadata": {
  "kernelspec": {
   "display_name": "Python 3",
   "language": "python",
   "name": "python3"
  },
  "language_info": {
   "codemirror_mode": {
    "name": "ipython",
    "version": 3
   },
   "file_extension": ".py",
   "mimetype": "text/x-python",
   "name": "python",
   "nbconvert_exporter": "python",
   "pygments_lexer": "ipython3",
   "version": "3.11.6"
  }
 },
 "nbformat": 4,
 "nbformat_minor": 2
}
